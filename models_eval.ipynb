{
 "cells": [
  {
   "cell_type": "code",
   "execution_count": 1,
   "metadata": {},
   "outputs": [],
   "source": [
    "from bagg import bagginTextModels as btm\n",
    "from sklearn.metrics import f1_score, precision_score, recall_score\n",
    "from sklearn.preprocessing  import  Normalizer\n",
    "import numpy as np\n",
    "from flair.models import TextClassifier\n",
    "from flair.data import Sentence\n",
    "import pickle\n",
    "import torch"
   ]
  },
  {
   "cell_type": "code",
   "execution_count": 2,
   "metadata": {},
   "outputs": [],
   "source": [
    "import json\n",
    "import pandas as pd"
   ]
  },
  {
   "cell_type": "code",
   "execution_count": 3,
   "metadata": {},
   "outputs": [],
   "source": [
    "ml='models/malayalam_params.json'\n",
    "mp=json.load(open(ml))\n",
    "mlf='data/malayalam_train.json'\n",
    "data=pd.read_json(mlf, lines=True)\n",
    "mX=data.text.values\n",
    "mY=data.klass.values\n",
    "mdata=pd.read_json('data/malayalam_dev.json', lines=True)\n",
    "xmm=[txt for txt in mdata.text.values]\n",
    "ymm=[txt for txt in mdata.klass.values]\n",
    "mtdata=pd.read_json('data/malayalam_test.json')\n",
    "xtmm=[txt for txt in mtdata.text.values]\n",
    "#ytmm=[txt for txt in mtdata.klass.values]\n",
    "idmm=[txt for txt in mtdata.id.values]"
   ]
  },
  {
   "cell_type": "code",
   "execution_count": 4,
   "metadata": {},
   "outputs": [],
   "source": [
    "test_malayalam=pd.read_csv('data/malayalam_test_answer.tsv',sep='\\t')"
   ]
  },
  {
   "cell_type": "code",
   "execution_count": 5,
   "metadata": {},
   "outputs": [
    {
     "data": {
      "text/html": [
       "<div>\n",
       "<style scoped>\n",
       "    .dataframe tbody tr th:only-of-type {\n",
       "        vertical-align: middle;\n",
       "    }\n",
       "\n",
       "    .dataframe tbody tr th {\n",
       "        vertical-align: top;\n",
       "    }\n",
       "\n",
       "    .dataframe thead th {\n",
       "        text-align: right;\n",
       "    }\n",
       "</style>\n",
       "<table border=\"1\" class=\"dataframe\">\n",
       "  <thead>\n",
       "    <tr style=\"text-align: right;\">\n",
       "      <th></th>\n",
       "      <th>id</th>\n",
       "      <th>text</th>\n",
       "      <th>category</th>\n",
       "    </tr>\n",
       "  </thead>\n",
       "  <tbody>\n",
       "    <tr>\n",
       "      <th>0</th>\n",
       "      <td>ml_sen_1</td>\n",
       "      <td>Bollywood film Newton inte remake aano?</td>\n",
       "      <td>unknown_state</td>\n",
       "    </tr>\n",
       "    <tr>\n",
       "      <th>1</th>\n",
       "      <td>ml_sen_2</td>\n",
       "      <td>endukond viewrs koodunnilla ?? ippozhum 2.8m a...</td>\n",
       "      <td>unknown_state</td>\n",
       "    </tr>\n",
       "    <tr>\n",
       "      <th>2</th>\n",
       "      <td>ml_sen_3</td>\n",
       "      <td>Mara paazhu mega mairananil ninnum ethil koodu...</td>\n",
       "      <td>Negative</td>\n",
       "    </tr>\n",
       "    <tr>\n",
       "      <th>3</th>\n",
       "      <td>ml_sen_4</td>\n",
       "      <td>Video nay cang xem cang thit</td>\n",
       "      <td>not-malayalam</td>\n",
       "    </tr>\n",
       "    <tr>\n",
       "      <th>4</th>\n",
       "      <td>ml_sen_5</td>\n",
       "      <td>Sunny chechiye kaanan vannathu njan maathram aano</td>\n",
       "      <td>unknown_state</td>\n",
       "    </tr>\n",
       "  </tbody>\n",
       "</table>\n",
       "</div>"
      ],
      "text/plain": [
       "         id                                               text       category\n",
       "0  ml_sen_1            Bollywood film Newton inte remake aano?  unknown_state\n",
       "1  ml_sen_2  endukond viewrs koodunnilla ?? ippozhum 2.8m a...  unknown_state\n",
       "2  ml_sen_3  Mara paazhu mega mairananil ninnum ethil koodu...       Negative\n",
       "3  ml_sen_4                       Video nay cang xem cang thit  not-malayalam\n",
       "4  ml_sen_5  Sunny chechiye kaanan vannathu njan maathram aano  unknown_state"
      ]
     },
     "execution_count": 5,
     "metadata": {},
     "output_type": "execute_result"
    }
   ],
   "source": [
    "test_malayalam.head()"
   ]
  },
  {
   "cell_type": "code",
   "execution_count": 6,
   "metadata": {},
   "outputs": [
    {
     "data": {
      "text/html": [
       "<div>\n",
       "<style scoped>\n",
       "    .dataframe tbody tr th:only-of-type {\n",
       "        vertical-align: middle;\n",
       "    }\n",
       "\n",
       "    .dataframe tbody tr th {\n",
       "        vertical-align: top;\n",
       "    }\n",
       "\n",
       "    .dataframe thead th {\n",
       "        text-align: right;\n",
       "    }\n",
       "</style>\n",
       "<table border=\"1\" class=\"dataframe\">\n",
       "  <thead>\n",
       "    <tr style=\"text-align: right;\">\n",
       "      <th></th>\n",
       "      <th>id</th>\n",
       "      <th>text</th>\n",
       "    </tr>\n",
       "    <tr>\n",
       "      <th>category</th>\n",
       "      <th></th>\n",
       "      <th></th>\n",
       "    </tr>\n",
       "  </thead>\n",
       "  <tbody>\n",
       "    <tr>\n",
       "      <th>Mixed_feelings</th>\n",
       "      <td>70</td>\n",
       "      <td>70</td>\n",
       "    </tr>\n",
       "    <tr>\n",
       "      <th>Negative</th>\n",
       "      <td>138</td>\n",
       "      <td>138</td>\n",
       "    </tr>\n",
       "    <tr>\n",
       "      <th>Positive</th>\n",
       "      <td>565</td>\n",
       "      <td>565</td>\n",
       "    </tr>\n",
       "    <tr>\n",
       "      <th>not-malayalam</th>\n",
       "      <td>177</td>\n",
       "      <td>177</td>\n",
       "    </tr>\n",
       "    <tr>\n",
       "      <th>unknown_state</th>\n",
       "      <td>398</td>\n",
       "      <td>398</td>\n",
       "    </tr>\n",
       "  </tbody>\n",
       "</table>\n",
       "</div>"
      ],
      "text/plain": [
       "                 id  text\n",
       "category                 \n",
       "Mixed_feelings   70    70\n",
       "Negative        138   138\n",
       "Positive        565   565\n",
       "not-malayalam   177   177\n",
       "unknown_state   398   398"
      ]
     },
     "execution_count": 6,
     "metadata": {},
     "output_type": "execute_result"
    }
   ],
   "source": [
    "test_malayalam.groupby('category').count()"
   ]
  },
  {
   "cell_type": "code",
   "execution_count": 7,
   "metadata": {},
   "outputs": [],
   "source": [
    "tl='models/tamil_params.json'\n",
    "tp=json.load(open(tl))\n",
    "tlf='data/tamil_train.json'\n",
    "data=pd.read_json(tlf, lines=True)\n",
    "tX=data.text.values\n",
    "tY=data.klass.values\n",
    "tdata=pd.read_json('data/tamil_dev.json', lines=True)\n",
    "xtt=[txt for txt in tdata.text.values]\n",
    "ytt=[txt for txt in tdata.klass.values]\n",
    "ttdata=pd.read_json('data/tamil_test.json')\n",
    "xttt=[txt for txt in ttdata.text.values]\n",
    "#ytmm=[txt for txt in mtdata.klass.values]\n",
    "idtt=[txt for txt in ttdata.id.values]"
   ]
  },
  {
   "cell_type": "code",
   "execution_count": 40,
   "metadata": {},
   "outputs": [
    {
     "data": {
      "text/html": [
       "<div>\n",
       "<style scoped>\n",
       "    .dataframe tbody tr th:only-of-type {\n",
       "        vertical-align: middle;\n",
       "    }\n",
       "\n",
       "    .dataframe tbody tr th {\n",
       "        vertical-align: top;\n",
       "    }\n",
       "\n",
       "    .dataframe thead th {\n",
       "        text-align: right;\n",
       "    }\n",
       "</style>\n",
       "<table border=\"1\" class=\"dataframe\">\n",
       "  <thead>\n",
       "    <tr style=\"text-align: right;\">\n",
       "      <th></th>\n",
       "      <th>text</th>\n",
       "      <th>klass</th>\n",
       "    </tr>\n",
       "    <tr>\n",
       "      <th>category</th>\n",
       "      <th></th>\n",
       "      <th></th>\n",
       "    </tr>\n",
       "  </thead>\n",
       "  <tbody>\n",
       "    <tr>\n",
       "      <th>Mixed_feelings</th>\n",
       "      <td>141</td>\n",
       "      <td>141</td>\n",
       "    </tr>\n",
       "    <tr>\n",
       "      <th>Negative</th>\n",
       "      <td>165</td>\n",
       "      <td>165</td>\n",
       "    </tr>\n",
       "    <tr>\n",
       "      <th>Positive</th>\n",
       "      <td>857</td>\n",
       "      <td>857</td>\n",
       "    </tr>\n",
       "    <tr>\n",
       "      <th>not-Tamil</th>\n",
       "      <td>29</td>\n",
       "      <td>29</td>\n",
       "    </tr>\n",
       "    <tr>\n",
       "      <th>unknown_state</th>\n",
       "      <td>68</td>\n",
       "      <td>68</td>\n",
       "    </tr>\n",
       "  </tbody>\n",
       "</table>\n",
       "</div>"
      ],
      "text/plain": [
       "                 text  klass\n",
       "category                    \n",
       "Mixed_feelings    141    141\n",
       "Negative          165    165\n",
       "Positive          857    857\n",
       "not-Tamil          29     29\n",
       "unknown_state      68     68"
      ]
     },
     "execution_count": 40,
     "metadata": {},
     "output_type": "execute_result"
    }
   ],
   "source": [
    "tdata.groupby('category').count()"
   ]
  },
  {
   "cell_type": "code",
   "execution_count": null,
   "metadata": {},
   "outputs": [],
   "source": []
  },
  {
   "cell_type": "code",
   "execution_count": 8,
   "metadata": {},
   "outputs": [
    {
     "data": {
      "text/html": [
       "<div>\n",
       "<style scoped>\n",
       "    .dataframe tbody tr th:only-of-type {\n",
       "        vertical-align: middle;\n",
       "    }\n",
       "\n",
       "    .dataframe tbody tr th {\n",
       "        vertical-align: top;\n",
       "    }\n",
       "\n",
       "    .dataframe thead th {\n",
       "        text-align: right;\n",
       "    }\n",
       "</style>\n",
       "<table border=\"1\" class=\"dataframe\">\n",
       "  <thead>\n",
       "    <tr style=\"text-align: right;\">\n",
       "      <th></th>\n",
       "      <th>id</th>\n",
       "      <th>text</th>\n",
       "    </tr>\n",
       "    <tr>\n",
       "      <th>category</th>\n",
       "      <th></th>\n",
       "      <th></th>\n",
       "    </tr>\n",
       "  </thead>\n",
       "  <tbody>\n",
       "    <tr>\n",
       "      <th>Mixed_feelings</th>\n",
       "      <td>377</td>\n",
       "      <td>377</td>\n",
       "    </tr>\n",
       "    <tr>\n",
       "      <th>Negative</th>\n",
       "      <td>424</td>\n",
       "      <td>424</td>\n",
       "    </tr>\n",
       "    <tr>\n",
       "      <th>Positive</th>\n",
       "      <td>2075</td>\n",
       "      <td>2075</td>\n",
       "    </tr>\n",
       "    <tr>\n",
       "      <th>not-Tamil</th>\n",
       "      <td>100</td>\n",
       "      <td>100</td>\n",
       "    </tr>\n",
       "    <tr>\n",
       "      <th>unknown_state</th>\n",
       "      <td>173</td>\n",
       "      <td>173</td>\n",
       "    </tr>\n",
       "  </tbody>\n",
       "</table>\n",
       "</div>"
      ],
      "text/plain": [
       "                  id  text\n",
       "category                  \n",
       "Mixed_feelings   377   377\n",
       "Negative         424   424\n",
       "Positive        2075  2075\n",
       "not-Tamil        100   100\n",
       "unknown_state    173   173"
      ]
     },
     "execution_count": 8,
     "metadata": {},
     "output_type": "execute_result"
    }
   ],
   "source": [
    "test_tamil=pd.read_csv('data/tamil_test_answer.tsv',sep='\\t')\n",
    "test_tamil.groupby('category').count()"
   ]
  },
  {
   "cell_type": "code",
   "execution_count": 9,
   "metadata": {},
   "outputs": [],
   "source": [
    "bm=pickle.load(open('malayalam_model_test.pk','rb'))"
   ]
  },
  {
   "cell_type": "code",
   "execution_count": 10,
   "metadata": {},
   "outputs": [
    {
     "data": {
      "text/plain": [
       "     fun: -0.7021801669640152\n",
       " message: 'Optimization terminated successfully.'\n",
       "    nfev: 456\n",
       "     nit: 5\n",
       " success: True\n",
       "       x: array([0.9472041 , 0.70713477, 0.12899314, 0.31150246, 0.10758394])"
      ]
     },
     "execution_count": 10,
     "metadata": {},
     "output_type": "execute_result"
    }
   ],
   "source": [
    "bm.sol"
   ]
  },
  {
   "cell_type": "code",
   "execution_count": 12,
   "metadata": {},
   "outputs": [],
   "source": [
    "bt=pickle.load(open('tamil_model_test.pk','rb'))"
   ]
  },
  {
   "cell_type": "code",
   "execution_count": 13,
   "metadata": {},
   "outputs": [
    {
     "data": {
      "text/plain": [
       "     fun: -0.6276731092215135\n",
       " message: 'Optimization terminated successfully.'\n",
       "    nfev: 156\n",
       "     nit: 1\n",
       " success: True\n",
       "       x: array([0.70178318, 0.01102967, 0.13731137, 0.48926635, 0.31429712])"
      ]
     },
     "execution_count": 13,
     "metadata": {},
     "output_type": "execute_result"
    }
   ],
   "source": [
    "bt.sol"
   ]
  },
  {
   "cell_type": "code",
   "execution_count": 14,
   "metadata": {},
   "outputs": [
    {
     "data": {
      "text/plain": [
       "[{'name': 'mtc',\n",
       "  'xv': <540x10880 sparse matrix of type '<class 'numpy.float64'>'\n",
       "  \twith 3466 stored elements in Compressed Sparse Row format>,\n",
       "  'xt': <4851x10880 sparse matrix of type '<class 'numpy.float64'>'\n",
       "  \twith 38484 stored elements in Compressed Sparse Row format>,\n",
       "  'clf': LinearSVC(max_iter=5000),\n",
       "  'macroF1': 0.6023145368099656,\n",
       "  'weightedF1': 0.6672294706402957,\n",
       "  'probas': array([[-0.68201334, -0.52748629, -0.06507287, -0.33454369, -0.37478268],\n",
       "         [-0.52138065, -0.4793826 , -0.41920715,  0.37942332, -0.42267939],\n",
       "         [-0.49801925, -0.46564894, -0.22763727,  0.22330143, -0.65838107],\n",
       "         ...,\n",
       "         [-0.59172242, -0.36718178,  0.26100673, -0.42836204, -0.51324806],\n",
       "         [-0.46495199, -0.40552459,  0.43260881, -0.58865258, -0.29275795],\n",
       "         [-0.54847075, -0.45493872,  0.31548873, -0.41247846, -0.47174037]])},\n",
       " {'name': 'charMultiEmb',\n",
       "  'xv': array([[ 0.0370688 ,  0.01904859, -0.10015232, ...,  0.21213035,\n",
       "          -0.18509467,  0.20295201],\n",
       "         [ 0.08439446,  0.02696726, -0.02800675, ...,  0.188721  ,\n",
       "           0.21984214, -0.02323763],\n",
       "         [ 0.03379404,  0.07082052,  0.05251694, ..., -0.03175328,\n",
       "          -0.01204471, -0.1511893 ],\n",
       "         ...,\n",
       "         [-0.03211468,  0.05734073,  0.03454508, ..., -0.19923829,\n",
       "           0.12865871,  0.18640856],\n",
       "         [-0.06285358, -0.02487168,  0.10939872, ..., -0.12512085,\n",
       "           0.12063815, -0.07101   ],\n",
       "         [ 0.1368276 ,  0.06471243, -0.05570722, ...,  0.02547084,\n",
       "           0.06129549, -0.12039751]], dtype=float32),\n",
       "  'xt': array([[ 0.13926595,  0.05448012, -0.09087115, ...,  0.14851367,\n",
       "           0.10561067,  0.01698966],\n",
       "         [-0.01103501,  0.06707905,  0.09137334, ...,  0.08065879,\n",
       "           0.22010219,  0.125599  ],\n",
       "         [-0.10138748, -0.08242246, -0.07141848, ...,  0.054167  ,\n",
       "          -0.174171  , -0.210641  ],\n",
       "         ...,\n",
       "         [ 0.14006872,  0.09792099, -0.02006692, ...,  0.1811165 ,\n",
       "           0.42020082,  0.04065283],\n",
       "         [ 0.18345791,  0.0360172 , -0.03007199, ..., -0.0967805 ,\n",
       "          -0.11952082, -0.10379115],\n",
       "         [ 0.1317796 ,  0.06196718,  0.02635536, ..., -0.04377269,\n",
       "           0.07014332, -0.01352625]], dtype=float32),\n",
       "  'clf': LinearSVC(max_iter=5000),\n",
       "  'macroF1': 0.5796258874525675,\n",
       "  'weightedF1': 0.649643910930063,\n",
       "  'probas': array([[-0.55247126, -0.56881509,  0.20676151, -0.21728679, -0.53034048],\n",
       "         [-0.49844295, -0.53230555, -0.61760775,  0.06281111, -0.28778614],\n",
       "         [-0.56863577, -0.47622073, -0.07768035,  0.32601846, -0.58098614],\n",
       "         ...,\n",
       "         [-0.43929595, -0.3885552 ,  0.25470519, -0.65828999, -0.39727003],\n",
       "         [-0.57388955, -0.38931264,  0.23462142, -0.6304525 , -0.25800948],\n",
       "         [-0.67292218, -0.50247433,  0.25793594, -0.44926528, -0.16224997]])},\n",
       " {'name': 'charLangMultiEmb',\n",
       "  'xv': array([[-0.03284846, -0.22857352, -0.04583741, ...,  0.21213035,\n",
       "          -0.18509467,  0.20295201],\n",
       "         [-0.07271451, -0.16152102, -0.12280105, ...,  0.188721  ,\n",
       "           0.21984214, -0.02323763],\n",
       "         [-0.00888968, -0.08858965, -0.04595273, ..., -0.03175328,\n",
       "          -0.01204471, -0.1511893 ],\n",
       "         ...,\n",
       "         [-0.04302612, -0.06189906, -0.04610151, ..., -0.19923829,\n",
       "           0.12865871,  0.18640856],\n",
       "         [-0.01061621, -0.12252638, -0.07331007, ..., -0.12512085,\n",
       "           0.12063815, -0.07101   ],\n",
       "         [-0.06402537, -0.21728824, -0.08357561, ...,  0.02547084,\n",
       "           0.06129549, -0.12039751]], dtype=float32),\n",
       "  'xt': array([[-0.05849311, -0.12978823, -0.09990194, ...,  0.14851367,\n",
       "           0.10561067,  0.01698966],\n",
       "         [-0.02086498, -0.06209906, -0.08041663, ...,  0.08065879,\n",
       "           0.22010219,  0.125599  ],\n",
       "         [-0.03778037, -0.12745383, -0.07218949, ...,  0.054167  ,\n",
       "          -0.174171  , -0.210641  ],\n",
       "         ...,\n",
       "         [-0.07422602, -0.13404815, -0.07949499, ...,  0.1811165 ,\n",
       "           0.42020082,  0.04065283],\n",
       "         [-0.01495304, -0.08229472,  0.03189133, ..., -0.0967805 ,\n",
       "          -0.11952082, -0.10379115],\n",
       "         [-0.03381997, -0.05015426, -0.01354286, ..., -0.04377269,\n",
       "           0.07014332, -0.01352625]], dtype=float32),\n",
       "  'clf': LinearSVC(max_iter=5000),\n",
       "  'macroF1': 0.5740612485211541,\n",
       "  'weightedF1': 0.6317317635343345,\n",
       "  'probas': array([[-0.48522223, -0.4340103 , -0.19223892, -0.2883259 , -0.67535681],\n",
       "         [-0.68362983, -0.24215376, -0.51687677, -0.0485194 , -0.45221243],\n",
       "         [-0.54659877, -0.54160577, -0.1274905 ,  0.30702729, -0.54531952],\n",
       "         ...,\n",
       "         [-0.48995303, -0.43244308,  0.32841953, -0.53840628, -0.41856697],\n",
       "         [-0.61338495, -0.25904521,  0.23975581, -0.66008466, -0.25191244],\n",
       "         [-0.71134462, -0.47644378,  0.21470866, -0.46508647, -0.06771209]])},\n",
       " {'name': 'langMultiEmb',\n",
       "  'xv': array([[-0.13140966,  0.35997868,  0.04255833, ...,  0.21213035,\n",
       "          -0.18509467,  0.20295201],\n",
       "         [ 0.1513441 , -0.08741325, -0.23535277, ...,  0.188721  ,\n",
       "           0.21984214, -0.02323763],\n",
       "         [-0.07345643,  0.20121086, -0.21928242, ..., -0.03175328,\n",
       "          -0.01204471, -0.1511893 ],\n",
       "         ...,\n",
       "         [ 0.11544315,  0.05134714, -0.34142828, ..., -0.19923829,\n",
       "           0.12865871,  0.18640856],\n",
       "         [-0.00994443,  0.05522972, -0.03451428, ..., -0.12512085,\n",
       "           0.12063815, -0.07101   ],\n",
       "         [ 0.21546699,  0.44948813, -0.33181533, ...,  0.02547084,\n",
       "           0.06129549, -0.12039751]], dtype=float32),\n",
       "  'xt': array([[ 1.26828745e-04,  1.90641165e-01, -4.94998664e-01, ...,\n",
       "           1.48513675e-01,  1.05610669e-01,  1.69896632e-02],\n",
       "         [-5.81554100e-02, -3.15256000e-01, -1.60032198e-01, ...,\n",
       "           8.06587934e-02,  2.20102191e-01,  1.25598997e-01],\n",
       "         [-3.92513514e-01, -1.12469003e-01,  4.30494487e-01, ...,\n",
       "           5.41670024e-02, -1.74171001e-01, -2.10640997e-01],\n",
       "         ...,\n",
       "         [-5.06461672e-02,  3.93074974e-02,  5.61496504e-02, ...,\n",
       "           1.81116506e-01,  4.20200825e-01,  4.06528302e-02],\n",
       "         [-1.82349160e-01, -1.47923334e-02, -1.12078495e-01, ...,\n",
       "          -9.67805013e-02, -1.19520821e-01, -1.03791155e-01],\n",
       "         [-1.03835061e-01,  1.24098815e-01, -2.37170115e-01, ...,\n",
       "          -4.37726900e-02,  7.01433197e-02, -1.35262460e-02]], dtype=float32),\n",
       "  'clf': LinearSVC(max_iter=5000),\n",
       "  'macroF1': 0.563789864177797,\n",
       "  'weightedF1': 0.6309798266252948,\n",
       "  'probas': array([[-0.26208552, -0.42187448, -0.29989113, -0.63982018, -0.50401245],\n",
       "         [-0.64644808, -0.25674684, -0.55902082, -0.25249313, -0.37407068],\n",
       "         [-0.55498335, -0.53018485, -0.11721295,  0.31621618, -0.5451293 ],\n",
       "         ...,\n",
       "         [-0.48905787, -0.42706904,  0.3562049 , -0.52429183, -0.420322  ],\n",
       "         [-0.58171617, -0.24967786,  0.22001332, -0.70906306, -0.21929657],\n",
       "         [-0.70578261, -0.46022732,  0.20878517, -0.49298904, -0.05858565]])},\n",
       " {'name': 'multiEmb',\n",
       "  'xv': array([[ 0.02843234, -0.40606734,  0.10742833, ...,  0.21213035,\n",
       "          -0.18509467,  0.20295201],\n",
       "         [-0.14535601, -0.08633187, -0.11344501, ...,  0.188721  ,\n",
       "           0.21984214, -0.02323763],\n",
       "         [-0.14029299, -0.16739213, -0.09402458, ..., -0.03175328,\n",
       "          -0.01204471, -0.1511893 ],\n",
       "         ...,\n",
       "         [ 0.01633529,  0.10211357,  0.092256  , ..., -0.19923829,\n",
       "           0.12865871,  0.18640856],\n",
       "         [-0.08113515,  0.01077186, -0.1761527 , ..., -0.12512085,\n",
       "           0.12063815, -0.07101   ],\n",
       "         [ 0.03164   ,  0.00195566, -0.26818648, ...,  0.02547084,\n",
       "           0.06129549, -0.12039751]], dtype=float32),\n",
       "  'xt': array([[-0.0515045 , -0.19841884, -0.11545715, ...,  0.14851367,\n",
       "           0.10561067,  0.01698966],\n",
       "         [-0.016477  ,  0.002872  , -0.10141361, ...,  0.08065879,\n",
       "           0.22010219,  0.125599  ],\n",
       "         [ 0.3544135 , -0.106078  , -0.2045165 , ...,  0.054167  ,\n",
       "          -0.174171  , -0.210641  ],\n",
       "         ...,\n",
       "         [ 0.07968133, -0.012431  , -0.16943264, ...,  0.1811165 ,\n",
       "           0.42020082,  0.04065283],\n",
       "         [ 0.00984234, -0.10857251, -0.12198433, ..., -0.0967805 ,\n",
       "          -0.11952082, -0.10379115],\n",
       "         [-0.067214  , -0.07290895,  0.02991744, ..., -0.04377269,\n",
       "           0.07014332, -0.01352625]], dtype=float32),\n",
       "  'clf': LinearSVC(max_iter=5000),\n",
       "  'macroF1': 0.5696321519336306,\n",
       "  'weightedF1': 0.6406484165342327,\n",
       "  'probas': array([[-0.44447154, -0.61575627,  0.14122623, -0.42437551, -0.47249323],\n",
       "         [-0.41212922, -0.53747783, -0.6590296 , -0.19226921, -0.26453662],\n",
       "         [-0.59203393, -0.46413803, -0.07416954,  0.34518401, -0.55625407],\n",
       "         ...,\n",
       "         [-0.4455773 , -0.39137166,  0.24236496, -0.66638576, -0.38141622],\n",
       "         [-0.53889471, -0.36510602,  0.23564727, -0.68403231, -0.22991355],\n",
       "         [-0.63728622, -0.5419273 ,  0.25880804, -0.46966165, -0.11232725]])}]"
      ]
     },
     "execution_count": 14,
     "metadata": {},
     "output_type": "execute_result"
    }
   ],
   "source": [
    "bm.models"
   ]
  },
  {
   "cell_type": "code",
   "execution_count": 170,
   "metadata": {},
   "outputs": [],
   "source": [
    "clf=bm.models[0]['clf']\n",
    "textModel=bm.textModels['mtc']"
   ]
  },
  {
   "cell_type": "code",
   "execution_count": 177,
   "metadata": {},
   "outputs": [
    {
     "name": "stdout",
     "output_type": "stream",
     "text": [
      "mtc 0.6704708773916827 0.6777777777777778 0.6672294706402957\n",
      "charMultiEmb 0.647844900241023 0.6574074074074074 0.649643910930063\n",
      "charLangMultiEmb 0.6318649287440391 0.6370370370370371 0.6317317635343345\n",
      "langMultiEmb 0.6295819111490476 0.6370370370370371 0.6309798266252948\n",
      "multiEmb 0.6381611027638446 0.6481481481481481 0.6406484165342327\n"
     ]
    }
   ],
   "source": [
    "#with torch.cuda.device(1):\n",
    "for m in bm.models:\n",
    "    yp=bm.LabelEncoder.inverse_transform(np.argmax(m['probas'],axis=1))\n",
    "    f1=f1_score(ymm,yp,average='weighted')\n",
    "    precision=precision_score(ymm,yp,average='weighted')\n",
    "    recall=recall_score(ymm,yp,average='weighted')\n",
    "    print(m['name'],precision,recall,f1)\n",
    "#with torch.cuda.device(0):\n",
    "#torch.device(\"cuda\")\n",
    "#y=bm.LabelEncoder.inverse_transform(bm.predict(xmm))\n",
    "#f1=f1_score(ymm,yp,average='weighted')\n",
    "#precision=precision_score(ymm,yp,average='weighted')\n",
    "#recall=recall_score(ymm,yp,average='weighted')\n",
    "#print(m['name'],precision,recall,f1)"
   ]
  },
  {
   "cell_type": "code",
   "execution_count": 180,
   "metadata": {},
   "outputs": [
    {
     "data": {
      "text/plain": [
       "{'_accuracy': 0.7103092783505155,\n",
       " '_all_f1': {'Mixed_feelings': 0.45161290322580644,\n",
       "  'Negative': 0.6486486486486487,\n",
       "  'Positive': 0.7607497243660418,\n",
       "  'not-malayalam': 0.7449392712550607,\n",
       "  'unknown_state': 0.6732283464566928},\n",
       " '_all_precision': {'Mixed_feelings': 0.7777777777777778,\n",
       "  'Negative': 0.7792207792207793,\n",
       "  'Positive': 0.6818181818181818,\n",
       "  'not-malayalam': 0.7540983606557377,\n",
       "  'unknown_state': 0.7184873949579832},\n",
       " '_all_recall': {'Mixed_feelings': 0.3181818181818182,\n",
       "  'Negative': 0.5555555555555556,\n",
       "  'Positive': 0.8603491271820449,\n",
       "  'not-malayalam': 0.736,\n",
       "  'unknown_state': 0.6333333333333333},\n",
       " '_geometricf1': 0.11185204110260294,\n",
       " '_harmonicf1': 0.633158630830261,\n",
       " '_macrof1': 0.6558357787904502,\n",
       " '_macrof1accuracy': 0.465846238749093,\n",
       " '_macrorecall': 0.6206839668505504,\n",
       " '_microf1': 0.7103092783505155,\n",
       " '_score': 0.6558357787904502,\n",
       " '_time': 6.249446630477905,\n",
       " '_weightedf1': 0.7008352655545667,\n",
       " 'del_diac': True,\n",
       " 'del_dup': False,\n",
       " 'del_punc': True,\n",
       " 'emo_option': 'none',\n",
       " 'ent_option': 'none',\n",
       " 'hashtag_option': 'none',\n",
       " 'lc': True,\n",
       " 'num_option': 'delete',\n",
       " 'select_conn': False,\n",
       " 'select_ent': False,\n",
       " 'select_suff': False,\n",
       " 'token_list': [-3, -2, -1, 2, 3, 5, 9],\n",
       " 'token_max_filter': 1.0,\n",
       " 'token_min_filter': -1,\n",
       " 'url_option': 'group',\n",
       " 'usr_option': 'group',\n",
       " 'weighting': 'tfidf'}"
      ]
     },
     "execution_count": 180,
     "metadata": {},
     "output_type": "execute_result"
    }
   ],
   "source": [
    "bm.params"
   ]
  },
  {
   "cell_type": "code",
   "execution_count": 15,
   "metadata": {},
   "outputs": [
    {
     "data": {
      "text/plain": [
       "{'_accuracy': 0.7035730039700044,\n",
       " '_all_f1': {'Mixed_feelings': 0.15568862275449102,\n",
       "  'Negative': 0.32346241457858765,\n",
       "  'Positive': 0.8268510515701526,\n",
       "  'not-Tamil': 0.6857142857142857,\n",
       "  'unknown_state': 0.2},\n",
       " '_all_precision': {'Mixed_feelings': 0.30952380952380953,\n",
       "  'Negative': 0.3901098901098901,\n",
       "  'Positive': 0.7536764705882353,\n",
       "  'not-Tamil': 0.7272727272727273,\n",
       "  'unknown_state': 0.4838709677419355},\n",
       " '_all_recall': {'Mixed_feelings': 0.104,\n",
       "  'Negative': 0.27626459143968873,\n",
       "  'Positive': 0.9157626037013401,\n",
       "  'not-Tamil': 0.6486486486486487,\n",
       "  'unknown_state': 0.12605042016806722},\n",
       " '_geometricf1': 0.005720410898864342,\n",
       " '_harmonicf1': 0.2911304574531329,\n",
       " '_macrof1': 0.4383432749235034,\n",
       " '_macrof1accuracy': 0.3084064947079788,\n",
       " '_macrorecall': 0.4141452527915489,\n",
       " '_microf1': 0.7035730039700044,\n",
       " '_score': 0.4383432749235034,\n",
       " '_time': 8.466909170150757,\n",
       " '_weightedf1': 0.6582578081996499,\n",
       " 'del_diac': True,\n",
       " 'del_dup': True,\n",
       " 'del_punc': True,\n",
       " 'emo_option': 'group',\n",
       " 'ent_option': 'none',\n",
       " 'hashtag_option': 'delete',\n",
       " 'lc': False,\n",
       " 'num_option': 'none',\n",
       " 'select_conn': False,\n",
       " 'select_ent': False,\n",
       " 'select_suff': False,\n",
       " 'token_list': [[2, 1], -3, -2, 1, 3],\n",
       " 'token_max_filter': 1.0,\n",
       " 'token_min_filter': -1,\n",
       " 'url_option': 'group',\n",
       " 'usr_option': 'group',\n",
       " 'weighting': 'tf'}"
      ]
     },
     "execution_count": 15,
     "metadata": {},
     "output_type": "execute_result"
    }
   ],
   "source": [
    "bt.params"
   ]
  },
  {
   "cell_type": "code",
   "execution_count": 117,
   "metadata": {},
   "outputs": [
    {
     "name": "stdout",
     "output_type": "stream",
     "text": [
      "multiEmb 0.0 0.0 0.0\n"
     ]
    }
   ],
   "source": [
    "f1_score(ytt,yp,average='weighted')\n",
    "precision=precision_score(ytt,yp,average='weighted')\n",
    "recall=recall_score(ytt,yp,average='weighted')\n",
    "print(m['name'],precision,recall,f1)"
   ]
  },
  {
   "cell_type": "code",
   "execution_count": 139,
   "metadata": {},
   "outputs": [
    {
     "data": {
      "text/plain": [
       "True"
      ]
     },
     "execution_count": 139,
     "metadata": {},
     "output_type": "execute_result"
    }
   ],
   "source": [
    "print(torch.cuda.current_device())"
   ]
  },
  {
   "cell_type": "code",
   "execution_count": 70,
   "metadata": {},
   "outputs": [],
   "source": [
    "tamil_vs=textModel.transform(xttt)"
   ]
  },
  {
   "cell_type": "code",
   "execution_count": 72,
   "metadata": {},
   "outputs": [],
   "source": [
    "y_tamil=bm.LabelEncoder.inverse_transform(clf.predict(tamil_vs))"
   ]
  },
  {
   "cell_type": "code",
   "execution_count": 44,
   "metadata": {},
   "outputs": [],
   "source": [
    "ttdata['label']=y_tamil"
   ]
  },
  {
   "cell_type": "code",
   "execution_count": 51,
   "metadata": {},
   "outputs": [
    {
     "data": {
      "text/plain": [
       "[('mtc', 0.6317354311693437),\n",
       " ('charMultiEmb', 0.5936641944409738),\n",
       " ('charLangMultiEmb', 0.6121624515987472),\n",
       " ('langMultiEmb', 0.6099756291039425),\n",
       " ('multiEmb', 0.5868472572202869)]"
      ]
     },
     "execution_count": 51,
     "metadata": {},
     "output_type": "execute_result"
    }
   ],
   "source": [
    "[(m['name'],m['weightedF1']) for m in bm.models]"
   ]
  },
  {
   "cell_type": "code",
   "execution_count": 1,
   "metadata": {},
   "outputs": [],
   "source": [
    "ypp=bm.LabelEncoder.inverse_transform(bm.predict(xttt))"
   ]
  },
  {
   "cell_type": "markdown",
   "metadata": {},
   "source": [
    "ymt"
   ]
  },
  {
   "cell_type": "code",
   "execution_count": 86,
   "metadata": {},
   "outputs": [
    {
     "data": {
      "text/plain": [
       "<3149x16319 sparse matrix of type '<class 'numpy.float64'>'\n",
       "\twith 22751 stored elements in Compressed Sparse Row format>"
      ]
     },
     "execution_count": 86,
     "metadata": {},
     "output_type": "execute_result"
    }
   ],
   "source": [
    "tamil_vs"
   ]
  },
  {
   "cell_type": "code",
   "execution_count": 128,
   "metadata": {},
   "outputs": [
    {
     "data": {
      "text/plain": [
       "0.6018114606742359"
      ]
     },
     "execution_count": 128,
     "metadata": {},
     "output_type": "execute_result"
    }
   ],
   "source": [
    "f1_score(test_tamil.category.values,ypp,average='weighted')"
   ]
  },
  {
   "cell_type": "code",
   "execution_count": 45,
   "metadata": {},
   "outputs": [],
   "source": [
    "ttdata.to_csv('UMSNH_tamil.tsv',index=None, sep='\\t')"
   ]
  },
  {
   "cell_type": "code",
   "execution_count": 57,
   "metadata": {},
   "outputs": [
    {
     "data": {
      "text/plain": [
       "'70 vayasulayum thanoda rasigargala sandhosapadutha ipdi ulaikuraru ivara poi kayapaduthuranungale echainga ulachu vaalanum'"
      ]
     },
     "execution_count": 57,
     "metadata": {},
     "output_type": "execute_result"
    }
   ],
   "source": [
    "ttdata.iloc[3].text"
   ]
  },
  {
   "cell_type": "code",
   "execution_count": 56,
   "metadata": {},
   "outputs": [
    {
     "data": {
      "text/html": [
       "<div>\n",
       "<style scoped>\n",
       "    .dataframe tbody tr th:only-of-type {\n",
       "        vertical-align: middle;\n",
       "    }\n",
       "\n",
       "    .dataframe tbody tr th {\n",
       "        vertical-align: top;\n",
       "    }\n",
       "\n",
       "    .dataframe thead th {\n",
       "        text-align: right;\n",
       "    }\n",
       "</style>\n",
       "<table border=\"1\" class=\"dataframe\">\n",
       "  <thead>\n",
       "    <tr style=\"text-align: right;\">\n",
       "      <th></th>\n",
       "      <th>id</th>\n",
       "      <th>text</th>\n",
       "      <th>label</th>\n",
       "    </tr>\n",
       "  </thead>\n",
       "  <tbody>\n",
       "    <tr>\n",
       "      <th>0</th>\n",
       "      <td>ta_sent_1</td>\n",
       "      <td>Yarayellam FDFS ppga ippove ready agitinga</td>\n",
       "      <td>Positive</td>\n",
       "    </tr>\n",
       "    <tr>\n",
       "      <th>1</th>\n",
       "      <td>ta_sent_2</td>\n",
       "      <td>Ennada viswasam mersal sarkar madhri time la l...</td>\n",
       "      <td>Positive</td>\n",
       "    </tr>\n",
       "    <tr>\n",
       "      <th>2</th>\n",
       "      <td>ta_sent_3</td>\n",
       "      <td>yuvan vera level ya .... valuable script. SK i...</td>\n",
       "      <td>Positive</td>\n",
       "    </tr>\n",
       "    <tr>\n",
       "      <th>3</th>\n",
       "      <td>ta_sent_4</td>\n",
       "      <td>70 vayasulayum thanoda rasigargala sandhosapad...</td>\n",
       "      <td>Mixed_feelings</td>\n",
       "    </tr>\n",
       "    <tr>\n",
       "      <th>4</th>\n",
       "      <td>ta_sent_5</td>\n",
       "      <td>all the best anna...Telugu makkal selvan fans</td>\n",
       "      <td>Positive</td>\n",
       "    </tr>\n",
       "    <tr>\n",
       "      <th>...</th>\n",
       "      <td>...</td>\n",
       "      <td>...</td>\n",
       "      <td>...</td>\n",
       "    </tr>\n",
       "    <tr>\n",
       "      <th>3144</th>\n",
       "      <td>ta_sent_3145</td>\n",
       "      <td>Tamil krish ah irukum oh...</td>\n",
       "      <td>Positive</td>\n",
       "    </tr>\n",
       "    <tr>\n",
       "      <th>3145</th>\n",
       "      <td>ta_sent_3146</td>\n",
       "      <td>Thalaivaaaaaa... trailer ye pattaiya kelapudhe...</td>\n",
       "      <td>Positive</td>\n",
       "    </tr>\n",
       "    <tr>\n",
       "      <th>3146</th>\n",
       "      <td>ta_sent_3147</td>\n",
       "      <td>Innum neraya neraya neraya neraya neraya</td>\n",
       "      <td>Positive</td>\n",
       "    </tr>\n",
       "    <tr>\n",
       "      <th>3147</th>\n",
       "      <td>ta_sent_3148</td>\n",
       "      <td>1:05 to 1:30  Vere level masss</td>\n",
       "      <td>Positive</td>\n",
       "    </tr>\n",
       "    <tr>\n",
       "      <th>3148</th>\n",
       "      <td>ta_sent_3149</td>\n",
       "      <td>Pangaalingala1.3k like 40m view varamum Innum ...</td>\n",
       "      <td>Positive</td>\n",
       "    </tr>\n",
       "  </tbody>\n",
       "</table>\n",
       "<p>3149 rows × 3 columns</p>\n",
       "</div>"
      ],
      "text/plain": [
       "                id                                               text  \\\n",
       "0        ta_sent_1         Yarayellam FDFS ppga ippove ready agitinga   \n",
       "1        ta_sent_2  Ennada viswasam mersal sarkar madhri time la l...   \n",
       "2        ta_sent_3  yuvan vera level ya .... valuable script. SK i...   \n",
       "3        ta_sent_4  70 vayasulayum thanoda rasigargala sandhosapad...   \n",
       "4        ta_sent_5      all the best anna...Telugu makkal selvan fans   \n",
       "...            ...                                                ...   \n",
       "3144  ta_sent_3145                        Tamil krish ah irukum oh...   \n",
       "3145  ta_sent_3146  Thalaivaaaaaa... trailer ye pattaiya kelapudhe...   \n",
       "3146  ta_sent_3147           Innum neraya neraya neraya neraya neraya   \n",
       "3147  ta_sent_3148                     1:05 to 1:30  Vere level masss   \n",
       "3148  ta_sent_3149  Pangaalingala1.3k like 40m view varamum Innum ...   \n",
       "\n",
       "               label  \n",
       "0           Positive  \n",
       "1           Positive  \n",
       "2           Positive  \n",
       "3     Mixed_feelings  \n",
       "4           Positive  \n",
       "...              ...  \n",
       "3144        Positive  \n",
       "3145        Positive  \n",
       "3146        Positive  \n",
       "3147        Positive  \n",
       "3148        Positive  \n",
       "\n",
       "[3149 rows x 3 columns]"
      ]
     },
     "execution_count": 56,
     "metadata": {},
     "output_type": "execute_result"
    }
   ],
   "source": [
    "ttdata"
   ]
  },
  {
   "cell_type": "code",
   "execution_count": 18,
   "metadata": {},
   "outputs": [],
   "source": [
    "keys_map={'del_diac': 'diacritic-removal','del_dup': 'duplication-removal','del_punc': 'punctuation-removal',\n",
    " 'emo_option': 'emojis-handler',\n",
    " 'ent_option': 'entities-handler',\n",
    " 'hashtag_option': 'hashtag-handlers',\n",
    " 'lc': 'Lower Case',\n",
    " 'num_option': 'number-handler',\n",
    " 'select_conn': 'select\\_conn',\n",
    " 'select_ent': 'select\\_ent',\n",
    " 'select_suff': 'select_suff',\n",
    " 'token_list': 'skip-grams/ngrams/qgrams',\n",
    " 'token_max_filter': 'token\\_max\\_filter',\n",
    " 'token_min_filter': 'token\\_min\\_filter',\n",
    " 'url_option': 'url-handler',\n",
    " 'usr_option': 'user-handler',\n",
    " 'weighting': 'Weighting scheme'}"
   ]
  },
  {
   "cell_type": "code",
   "execution_count": 19,
   "metadata": {},
   "outputs": [
    {
     "name": "stdout",
     "output_type": "stream",
     "text": [
      "diacritic-removal&True & True\n",
      "duplication-removal&False & True\n",
      "punctuation-removal&True & True\n",
      "emojis-handler&none & group\n",
      "entities-handler&none & none\n",
      "hashtag-handlers&none & delete\n",
      "Lower Case&True & False\n",
      "number-handler&delete & none\n",
      "select\\_conn&False & False\n",
      "select\\_ent&False & False\n",
      "select_suff&False & False\n",
      "skip-grams/ngrams/qgrams&[-3, -2, -1, 2, 3, 5, 9] & [[2, 1], -3, -2, 1, 3]\n",
      "token\\_max\\_filter&1.0 & 1.0\n",
      "token\\_min\\_filter&-1 & -1\n",
      "url-handler&group & group\n",
      "user-handler&group & group\n",
      "Weighting scheme&tfidf & tf\n"
     ]
    }
   ],
   "source": [
    "for k,v in keys_map.items():\n",
    "    print(f\"{keys_map[k]}&{bm.params[k]} & {bt.params[k]}\")"
   ]
  },
  {
   "cell_type": "code",
   "execution_count": null,
   "metadata": {},
   "outputs": [],
   "source": []
  }
 ],
 "metadata": {
  "kernelspec": {
   "display_name": "Python 3",
   "language": "python",
   "name": "python3"
  },
  "language_info": {
   "codemirror_mode": {
    "name": "ipython",
    "version": 3
   },
   "file_extension": ".py",
   "mimetype": "text/x-python",
   "name": "python",
   "nbconvert_exporter": "python",
   "pygments_lexer": "ipython3",
   "version": "3.8.2"
  }
 },
 "nbformat": 4,
 "nbformat_minor": 4
}
